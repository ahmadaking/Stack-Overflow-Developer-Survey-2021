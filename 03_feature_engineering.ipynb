{
  "cells": [
    {
      "cell_type": "code",
      "execution_count": 2,
      "metadata": {
        "id": "b66kz7f0S4Zl"
      },
      "outputs": [],
      "source": [
        "# Constants\n",
        "# DF_PATH = \"../data/processed/1_preprocessed_df.pkl\"\n",
        "\n",
        "# to work on google colabs \n",
        "url = \"/content/drive/MyDrive/Colab Notebooks/related_files/1_preprocessed_df.pkl\"\n",
        "DF_PATH = url\n",
        "\n",
        "NA_STRING = 'Not Specified'\n",
        "TRANSPARENT_STRING = 'rgba(0, 0, 0)'\n",
        "\n",
        "ROLE_COLS       = ['DevType']\n",
        "TECH_COLS       = ['LanguageHaveWorkedWith',\n",
        "                   'DatabaseHaveWorkedWith',\n",
        "                   'PlatformHaveWorkedWith',\n",
        "                   'WebframeHaveWorkedWith',\n",
        "                   'MiscTechHaveWorkedWith',\n",
        "                   'ToolsTechHaveWorkedWith',\n",
        "                   'NEWCollabToolsHaveWorkedWith']\n",
        "EXPORT_FEATURES_DIR = \"../data/processed\""
      ]
    },
    {
      "cell_type": "code",
      "source": [
        "# mount colabs to google-drive \n",
        "from google.colab import drive\n",
        "drive.mount('/content/drive')"
      ],
      "metadata": {
        "colab": {
          "base_uri": "https://localhost:8080/"
        },
        "id": "2kY1YY7qe5n_",
        "outputId": "88f231e3-c057-4abd-9eaa-9946a0f3efd5"
      },
      "execution_count": 3,
      "outputs": [
        {
          "output_type": "stream",
          "name": "stdout",
          "text": [
            "Mounted at /content/drive\n"
          ]
        }
      ]
    },
    {
      "cell_type": "code",
      "execution_count": 4,
      "metadata": {
        "id": "BbB9xGo1S4Zn"
      },
      "outputs": [],
      "source": [
        "# Load packages\n",
        "import pandas as pd\n",
        "import numpy as np\n",
        "import logging\n",
        "import pickle\n",
        "import os\n",
        "\n",
        "import plotly\n",
        "import plotly.express as px\n",
        "import plotly.graph_objects as go # Graph objects are the low-level building blocks of figures which you can use instead of Plotly Express for greater control.\n",
        "\n",
        "import matplotlib.cm as cm\n",
        "import matplotlib.pyplot as plt\n",
        "\n",
        "from sklearn.preprocessing import MultiLabelBinarizer\n",
        "from sklearn.preprocessing import StandardScaler\n",
        "from sklearn.manifold import TSNE\n",
        "\n",
        "from sklearn.pipeline import make_pipeline\n",
        "from sklearn.cluster import AgglomerativeClustering\n",
        "from sklearn.model_selection import train_test_split\n",
        "\n",
        "pd.options.display.max_rows = 10000\n",
        "pd.options.display.max_columns = 10000"
      ]
    },
    {
      "cell_type": "markdown",
      "metadata": {
        "id": "Bd8lUJSWS4Zo"
      },
      "source": [
        "### Read data and preprocess data"
      ]
    },
    {
      "cell_type": "code",
      "execution_count": 5,
      "metadata": {
        "id": "JiW5gB_JS4Zp"
      },
      "outputs": [],
      "source": [
        "# Read Data \n",
        "df = pd.read_pickle(DF_PATH)"
      ]
    },
    {
      "cell_type": "code",
      "execution_count": 6,
      "metadata": {
        "id": "4jUuKSFcS4Zp"
      },
      "outputs": [],
      "source": [
        "# One hot encode\n",
        "encoded_dfs = {}\n",
        "for col in ROLE_COLS + TECH_COLS :\n",
        "    binarizer = MultiLabelBinarizer()\n",
        "    encoded_df = pd.DataFrame(binarizer.fit_transform(df[col]),\n",
        "                              columns = binarizer.classes_,\n",
        "                              index= df[col].index)\n",
        "    encoded_dfs[col] = encoded_df\n",
        "\n",
        "# Merge 1-hot encoded\n",
        "ohe_df = pd.concat(encoded_dfs, axis=1)"
      ]
    },
    {
      "cell_type": "markdown",
      "metadata": {
        "id": "WSvcLzGjS4Zq"
      },
      "source": [
        "### Dimentionality reduction"
      ]
    },
    {
      "cell_type": "code",
      "execution_count": 7,
      "metadata": {
        "colab": {
          "base_uri": "https://localhost:8080/"
        },
        "id": "ZtjT6ngcS4Zq",
        "outputId": "238791c0-29f3-487a-f184-850a3eab8a49"
      },
      "outputs": [
        {
          "output_type": "stream",
          "name": "stderr",
          "text": [
            "/usr/local/lib/python3.7/dist-packages/sklearn/utils/validation.py:1692: FutureWarning: Feature names only support names that are all strings. Got feature names with dtypes: ['tuple']. An error will be raised in 1.2.\n",
            "  FutureWarning,\n",
            "/usr/local/lib/python3.7/dist-packages/sklearn/utils/validation.py:1692: FutureWarning: Feature names only support names that are all strings. Got feature names with dtypes: ['tuple']. An error will be raised in 1.2.\n",
            "  FutureWarning,\n"
          ]
        }
      ],
      "source": [
        "# Prepare sub frames\n",
        "skills_ohe = ohe_df.drop('DevType', axis=1).copy()\n",
        "std_skills = StandardScaler().fit_transform(skills_ohe)"
      ]
    },
    {
      "cell_type": "code",
      "source": [
        "tsne_projection = TSNE(n_components=2,\n",
        "                       perplexity=3,\n",
        "                       learning_rate=0.01,\n",
        "                       init='pca',\n",
        "                       method='barnes_hut',\n",
        "                       n_jobs=2,\n",
        "                       n_iter=10**10,\n",
        "                       random_state=0).fit_transform(std_skills)\n",
        "\n",
        "tsne_projection = pd.DataFrame(tsne_projection, index=skills_ohe.columns)\n"
      ],
      "metadata": {
        "colab": {
          "base_uri": "https://localhost:8080/",
          "height": 1000
        },
        "id": "fXzL-jBkgFfB",
        "outputId": "93217d16-4342-4c35-d100-54b33de43085"
      },
      "execution_count": 8,
      "outputs": [
        {
          "output_type": "stream",
          "name": "stderr",
          "text": [
            "/usr/local/lib/python3.7/dist-packages/sklearn/manifold/_t_sne.py:986: FutureWarning: The PCA initialization in TSNE will change to have the standard deviation of PC1 equal to 1e-4 in 1.2. This will ensure better convergence.\n",
            "  FutureWarning,\n",
            "ERROR:root:Internal Python error in the inspect module.\n",
            "Below is the traceback from this internal error.\n",
            "\n"
          ]
        },
        {
          "output_type": "stream",
          "name": "stdout",
          "text": [
            "Traceback (most recent call last):\n",
            "  File \"/usr/local/lib/python3.7/dist-packages/IPython/core/interactiveshell.py\", line 3326, in run_code\n",
            "    exec(code_obj, self.user_global_ns, self.user_ns)\n",
            "  File \"<ipython-input-8-86b4c6aa7367>\", line 8, in <module>\n",
            "    random_state=0).fit_transform(std_skills)\n",
            "  File \"/usr/local/lib/python3.7/dist-packages/sklearn/manifold/_t_sne.py\", line 1108, in fit_transform\n",
            "    embedding = self._fit(X)\n",
            "  File \"/usr/local/lib/python3.7/dist-packages/sklearn/manifold/_t_sne.py\", line 1010, in _fit\n",
            "    skip_num_points=skip_num_points,\n",
            "  File \"/usr/local/lib/python3.7/dist-packages/sklearn/manifold/_t_sne.py\", line 1056, in _tsne\n",
            "    params, kl_divergence, it = _gradient_descent(obj_func, params, **opt_args)\n",
            "  File \"/usr/local/lib/python3.7/dist-packages/sklearn/manifold/_t_sne.py\", line 398, in _gradient_descent\n",
            "    error, grad = objective(p, *args, **kwargs)\n",
            "  File \"/usr/local/lib/python3.7/dist-packages/sklearn/manifold/_t_sne.py\", line 290, in _kl_divergence_bh\n",
            "    num_threads=num_threads,\n",
            "KeyboardInterrupt\n",
            "\n",
            "During handling of the above exception, another exception occurred:\n",
            "\n",
            "Traceback (most recent call last):\n",
            "  File \"/usr/local/lib/python3.7/dist-packages/IPython/core/interactiveshell.py\", line 2040, in showtraceback\n",
            "    stb = value._render_traceback_()\n",
            "AttributeError: 'KeyboardInterrupt' object has no attribute '_render_traceback_'\n",
            "\n",
            "During handling of the above exception, another exception occurred:\n",
            "\n",
            "Traceback (most recent call last):\n",
            "  File \"/usr/local/lib/python3.7/dist-packages/IPython/core/ultratb.py\", line 1101, in get_records\n",
            "    return _fixed_getinnerframes(etb, number_of_lines_of_context, tb_offset)\n",
            "  File \"/usr/local/lib/python3.7/dist-packages/IPython/core/ultratb.py\", line 319, in wrapped\n",
            "    return f(*args, **kwargs)\n",
            "  File \"/usr/local/lib/python3.7/dist-packages/IPython/core/ultratb.py\", line 353, in _fixed_getinnerframes\n",
            "    records = fix_frame_records_filenames(inspect.getinnerframes(etb, context))\n",
            "  File \"/usr/lib/python3.7/inspect.py\", line 1502, in getinnerframes\n",
            "    frameinfo = (tb.tb_frame,) + getframeinfo(tb, context)\n",
            "  File \"/usr/lib/python3.7/inspect.py\", line 1460, in getframeinfo\n",
            "    filename = getsourcefile(frame) or getfile(frame)\n",
            "  File \"/usr/lib/python3.7/inspect.py\", line 696, in getsourcefile\n",
            "    if getattr(getmodule(object, filename), '__loader__', None) is not None:\n",
            "  File \"/usr/lib/python3.7/inspect.py\", line 742, in getmodule\n",
            "    os.path.realpath(f)] = module.__name__\n",
            "  File \"/usr/lib/python3.7/posixpath.py\", line 395, in realpath\n",
            "    path, ok = _joinrealpath(filename[:0], filename, {})\n",
            "  File \"/usr/lib/python3.7/posixpath.py\", line 429, in _joinrealpath\n",
            "    if not islink(newpath):\n",
            "  File \"/usr/lib/python3.7/posixpath.py\", line 171, in islink\n",
            "    st = os.lstat(path)\n",
            "KeyboardInterrupt\n"
          ]
        },
        {
          "output_type": "error",
          "ename": "KeyboardInterrupt",
          "evalue": "ignored",
          "traceback": [
            "\u001b[0;31m---------------------------------------------------------------------------\u001b[0m"
          ]
        }
      ]
    },
    {
      "cell_type": "code",
      "source": [
        "tsne_projection.shape"
      ],
      "metadata": {
        "id": "RLVQVnnfgG7n"
      },
      "execution_count": null,
      "outputs": []
    },
    {
      "cell_type": "code",
      "source": [],
      "metadata": {
        "id": "NcPljGOqhAbz"
      },
      "execution_count": null,
      "outputs": []
    }
  ],
  "metadata": {
    "interpreter": {
      "hash": "2b171981365874f4915c1816f250cec3a86f6228f0c6c7a868ff701d9f9f446a"
    },
    "kernelspec": {
      "display_name": "Python 3.7.12 ('py37')",
      "language": "python",
      "name": "python3"
    },
    "language_info": {
      "codemirror_mode": {
        "name": "ipython",
        "version": 3
      },
      "file_extension": ".py",
      "mimetype": "text/x-python",
      "name": "python",
      "nbconvert_exporter": "python",
      "pygments_lexer": "ipython3",
      "version": "3.7.12"
    },
    "orig_nbformat": 4,
    "colab": {
      "provenance": []
    },
    "accelerator": "GPU",
    "gpuClass": "standard"
  },
  "nbformat": 4,
  "nbformat_minor": 0
}